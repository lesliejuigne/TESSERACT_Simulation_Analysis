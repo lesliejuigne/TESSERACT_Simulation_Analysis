{
 "cells": [
  {
   "cell_type": "markdown",
   "metadata": {},
   "source": [
    "# TESSERACT Simulation Analysis (TESSSA) - Notebook Demo"
   ]
  },
  {
   "cell_type": "code",
   "execution_count": 26,
   "metadata": {},
   "outputs": [
    {
     "name": "stdout",
     "output_type": "stream",
     "text": [
      "The autoreload extension is already loaded. To reload it, use:\n",
      "  %reload_ext autoreload\n"
     ]
    }
   ],
   "source": [
    "%load_ext autoreload\n",
    "%autoreload 2"
   ]
  },
  {
   "cell_type": "markdown",
   "metadata": {},
   "source": [
    "##### The simulations analysis is done in 2 steps:\n",
    "\n",
    "1. <span style=\"color:#c9184a\">**Processing the ROOT data** </span> into h5 files using **root_to_h5.py** module.\n",
    "    * Note that the simulations data are already being processed a first time, filtering the only the events reaching the virtual detector.\n",
    "    * Only the *proc.root* data should be use\n",
    "\n",
    "2. <span style=\"color:#c9184a\"> **Shielding simulation analysis** </span>using the **shield_sim_processing.py** module. \n",
    "    * Currently only for 2 types of shielding : the Rock/Concrete or the Internal Shielding\n",
    "    * Analysis can be done using either *.root* or *.h5* but **H5 format is highly recommanded.**\n",
    "\n",
    "&nbsp;\n",
    "> **Note:** The current version of the detector geometry in **GEANT4** is **v4.5**."
   ]
  },
  {
   "cell_type": "code",
   "execution_count": 27,
   "metadata": {},
   "outputs": [],
   "source": [
    "from tesssa import shield_sim_processing as ssp \n",
    "from tesssa import root_to_h5 as rth5"
   ]
  },
  {
   "cell_type": "markdown",
   "metadata": {},
   "source": [
    "#### <span style=\"color:#c9184a\">**Processing the ROOT data** </span> \n",
    "\n",
    "* In this demo notebook, only the \"type of shielding\" is needed. The demo data are storted in the *sim_data_example/raw* folder, where the *.h5* will also be saved. &nbsp;\n",
    "\n",
    "* The function RootToH5PY takes in entry the **output file name** and the **type of shielding**.\n",
    "* If you want to use a specific set of data, the parameter *input_file* can be used, which the wanted path. The output file will then be saved in the same folder as the notebook. "
   ]
  },
  {
   "cell_type": "code",
   "execution_count": 28,
   "metadata": {},
   "outputs": [
    {
     "name": "stdout",
     "output_type": "stream",
     "text": [
      "Processing in progress! Be patient... :)\n"
     ]
    },
    {
     "name": "stderr",
     "output_type": "stream",
     "text": [
      "100%|██████████| 1296/1296 [00:24<00:00, 52.33it/s]\n"
     ]
    }
   ],
   "source": [
    "r = rth5.RootToH5PY( \"internals.h5\", \"internals\")"
   ]
  },
  {
   "cell_type": "markdown",
   "metadata": {},
   "source": [
    "#### <span style=\"color:#c9184a\">**Shielding simulation analysis** </span> \n",
    "\n",
    "The function takes in entry both the type of shielding geometry and the type of shielding.\n",
    "&nbsp;\n",
    "\n",
    "Please note that in this version the **entire** path of the .h5 is needed!\n",
    "\n",
    "&nbsp;\n",
    "&nbsp;\n",
    "\n",
    "**g4_sim_proc** (geometry, shielding, input_path, plots): \n",
    "* geometry : \"octa\" or \"cube\"\n",
    "* shielding : \"rock\", \"concrete\" or \"internals\"\n",
    "* plots : to print the plots please choose <span style=\"color:blue\">True</span> , otherwise only the summary will be printed\n"
   ]
  },
  {
   "cell_type": "code",
   "execution_count": null,
   "metadata": {},
   "outputs": [
    {
     "name": "stdout",
     "output_type": "stream",
     "text": [
      "Processing files in /disk/data1/lze/ljuign/TESSERACT_Simulation_Analysis/sim_data_example/internals/internals.h5\n",
      "\n",
      "Simulation Summary\n",
      "===========================================\n",
      "Shielding Type: Internals and Geometry: Octa\n",
      "\n",
      "Total counts per Layer of Shielding:\n",
      "____________________________________\n",
      "\n",
      "SSi: R = 8.10e-07 ± 2.15e-06 counts/keV.day.kg\n",
      "Cu: R = 0.00e+00 ± 1.75e-05 counts/keV.day.kg\n",
      "PCu: R = 0.00e+00 ± 1.23e-04 counts/keV.day.kg\n",
      "Pb: R = 8.68e-04 ± 7.23e-02 counts/keV.day.kg\n",
      "PE: R = 1.65e-05 ± 1.76e-05 counts/keV.day.kg\n",
      "ti: R = 5.61e-05 ± 1.30e-05 counts/keV.day.kg\n",
      "\n",
      "Total Counts:\n",
      "_______________\n",
      "\n",
      "R = 9.41e-04 ± 7.23e-02 counts/keV.day.kg\n"
     ]
    },
    {
     "data": {
      "text/plain": [
       "<tesssa.shield_sim_processing.g4_sim_proc at 0x7fc674277a30>"
      ]
     },
     "execution_count": 23,
     "metadata": {},
     "output_type": "execute_result"
    }
   ],
   "source": [
    "s = ssp.g4_sim_proc('octa', 'internals','/disk/data1/lze/ljuign/TESSERACT_Simulation_Analysis/sim_data_example/internals/internals.h5',plots = False)"
   ]
  }
 ],
 "metadata": {
  "kernelspec": {
   "display_name": "conda_env_21_11_2021",
   "language": "python",
   "name": "python3"
  },
  "language_info": {
   "codemirror_mode": {
    "name": "ipython",
    "version": 3
   },
   "file_extension": ".py",
   "mimetype": "text/x-python",
   "name": "python",
   "nbconvert_exporter": "python",
   "pygments_lexer": "ipython3",
   "version": "3.9.1"
  }
 },
 "nbformat": 4,
 "nbformat_minor": 2
}
